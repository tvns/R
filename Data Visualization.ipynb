{
 "cells": [
  {
   "cell_type": "markdown",
   "id": "spectacular-fitting",
   "metadata": {},
   "source": [
    "# Basic data visualization in R"
   ]
  },
  {
   "cell_type": "markdown",
   "id": "quality-nowhere",
   "metadata": {},
   "source": [
    "The objective of this chapter is to familiarize with the basic data visualization methods in R. We are going to focus on \n",
    "1. R default plotting library\n",
    "2. ggplot2\n",
    "\n",
    "First, install R in Ananconda to use Jupyter Notebook https://docs.anaconda.com/anaconda/navigator/tutorials/r-lang/ <br>\n",
    "Note that all essential packages in R will be downloaded. To install a package in R, call ``install.packages(\"package_name\")`` <br>\n",
    "An Introduction to R @ https://cran.r-project.org/manuals.html <br>\n",
    "Lot of examples @ https://www.r-graph-gallery.com/"
   ]
  },
  {
   "cell_type": "markdown",
   "id": "weighted-timeline",
   "metadata": {},
   "source": [
    "# Today's objective\n",
    "\n",
    "1. Recall - Last week\n",
    "2. Last week lab\n",
    "3. Data visualization in R\n",
    "> 1. R default plotting<br>\n",
    "> 2. Ggplot2\n",
    "\n",
    "\n",
    "### Breaks:\n",
    "1. 10:30 - 10:40\n",
    "2. 11:40 - 11:50"
   ]
  },
  {
   "cell_type": "markdown",
   "id": "forward-springer",
   "metadata": {},
   "source": [
    "For help in R, invoking ``?`` followed by the function."
   ]
  },
  {
   "cell_type": "code",
   "execution_count": 1,
   "id": "united-neighborhood",
   "metadata": {},
   "outputs": [],
   "source": [
    "?plot "
   ]
  },
  {
   "cell_type": "markdown",
   "id": "opposite-triumph",
   "metadata": {},
   "source": [
    "# R default plotting "
   ]
  },
  {
   "cell_type": "markdown",
   "id": "yellow-passing",
   "metadata": {},
   "source": [
    "### Line Plot\n",
    "Since R was create for statistical purpose, the ``plot()`` function by default is a scatter plot. \n",
    "\n",
    "To create a line plot, use ``plot``  with ``type=\"l\"``<br>\n",
    "Data type: \n",
    "> Numerics\n",
    "\n",
    "Argument Input types:\n",
    "> vector, data frame"
   ]
  },
  {
   "cell_type": "code",
   "execution_count": 6,
   "id": "caroline-expert",
   "metadata": {},
   "outputs": [
    {
     "data": {
      "image/png": "[encoded data removed]",
      "text/plain": [
       "Plot with title \"simple plot\""
      ]
     },
     "metadata": {},
     "output_type": "display_data"
    }
   ],
   "source": [
    "# Resizing the plot window\n",
    "library(repr)\n",
    "options(repr.plot.width=4, repr.plot.height=3)\n",
    "# this is in an interactive mode windows(4,4)\n",
    "# create an array of values\n",
    "x <- seq(-pi, pi, 2*pi/50.0) # np.arange(-pi, pi, step), np.linspace(-pi, pi, step_size)\n",
    "# \"<-\" samething as \"=\"\n",
    "plot(x, sin(x), type=\"l\", main=\"simple plot\")"
   ]
  },
  {
   "cell_type": "markdown",
   "id": "frozen-butter",
   "metadata": {},
   "source": [
    "Calling ``plot()`` multiple times might replace the previous graph. So, use ``lines()`` to have all graph in the same window"
   ]
  },
  {
   "cell_type": "code",
   "execution_count": 4,
   "id": "improving-nudist",
   "metadata": {
    "scrolled": true
   },
   "outputs": [
    {
     "data": {
      "image/png": "[encoded data removed]",
      "text/plain": [
       "plot without title"
      ]
     },
     "metadata": {},
     "output_type": "display_data"
    }
   ],
   "source": [
    "# Multiple plot in the same window\n",
    "plot(x, sin(x), type=\"l\", col=\"blue\", ylab=\"\")\n",
    "# use lines\n",
    "lines(x, cos(x), col=\"red\")"
   ]
  },
  {
   "cell_type": "markdown",
   "id": "ranging-duplicate",
   "metadata": {},
   "source": [
    "To save the graph in R:\n",
    "1. choose from the available extension in R and give the chart file a name\n",
    "- ``pdf(\"filename.pdf\")``\n",
    "- ``png(\"filename.png\")``\n",
    "- ``jpeg(\"filename.jpeg\")``\n",
    "- ``svg(\"filename.svg\")``\n",
    "- ``tiff(\"filename.tiff\")``\n",
    "- ``postcript(\"filename.ps\")``\n",
    "2. plot the chart\n",
    "3. save the file using ``dev.off()``"
   ]
  },
  {
   "cell_type": "code",
   "execution_count": 10,
   "id": "looking-biology",
   "metadata": {},
   "outputs": [
    {
     "data": {
      "text/html": [
       "<strong>png:</strong> 2"
      ],
      "text/latex": [
       "\\textbf{png:} 2"
      ],
      "text/markdown": [
       "**png:** 2"
      ],
      "text/plain": [
       "png \n",
       "  2 "
      ]
     },
     "metadata": {},
     "output_type": "display_data"
    }
   ],
   "source": [
    "# 1. choose an extension, here, I choose png\n",
    "pdf(file=\"C:\\\\Users\\\\famille\\\\Desktop\\\\my_plot.pdf\")\n",
    "# Multiple plot in the same window\n",
    "plot(x, sin(x), type=\"l\", col=\"blue\", ylab=\"\")\n",
    "# use lines\n",
    "lines(x, cos(x), col=\"red\")\n",
    "# save the file\n",
    "dev.off()"
   ]
  },
  {
   "cell_type": "code",
   "execution_count": 11,
   "id": "quantitative-penalty",
   "metadata": {},
   "outputs": [],
   "source": [
    "?plot"
   ]
  },
  {
   "cell_type": "markdown",
   "id": "daily-canberra",
   "metadata": {},
   "source": [
    "### Scatter plot\n",
    "\n",
    "To create a scatter plot, use ``plot()`` with the default argument"
   ]
  },
  {
   "cell_type": "code",
   "execution_count": 14,
   "id": "judicial-devon",
   "metadata": {},
   "outputs": [
    {
     "data": {
      "image/png": "[encoded data removed]",
      "text/plain": [
       "plot without title"
      ]
     },
     "metadata": {},
     "output_type": "display_data"
    }
   ],
   "source": [
    "# sampling from Standard Normal Distribution\n",
    "x <- rnorm(50)\n",
    "# create a linear relationship\n",
    "y <- x + rnorm(50)\n",
    "plot(x, y)"
   ]
  },
  {
   "cell_type": "markdown",
   "id": "august-result",
   "metadata": {},
   "source": [
    "### Box Plot\n",
    "To create a box plot, use ``boxplot()``<br>\n",
    "Data type: \n",
    "> Numerics\n",
    "\n",
    "Argument Input types:\n",
    "> vector, list, or data frame"
   ]
  },
  {
   "cell_type": "code",
   "execution_count": 17,
   "id": "boring-frederick",
   "metadata": {},
   "outputs": [
    {
     "data": {
      "image/png": "[encoded data removed]",
      "text/plain": [
       "plot without title"
      ]
     },
     "metadata": {},
     "output_type": "display_data"
    }
   ],
   "source": [
    "#set.seed(42)\n",
    "x <- rnorm(500)\n",
    "boxplot(x)"
   ]
  },
  {
   "cell_type": "code",
   "execution_count": 15,
   "id": "smart-titanium",
   "metadata": {},
   "outputs": [],
   "source": [
    "?hist"
   ]
  },
  {
   "cell_type": "markdown",
   "id": "intensive-manhattan",
   "metadata": {},
   "source": [
    "### Histogram\n",
    "\n",
    "To create a historgram, use ``hist()``"
   ]
  },
  {
   "cell_type": "code",
   "execution_count": 18,
   "id": "sitting-fitness",
   "metadata": {},
   "outputs": [
    {
     "data": {
      "image/png": "[encoded data removed]",
      "text/plain": [
       "Plot with title \"Normal\""
      ]
     },
     "metadata": {},
     "output_type": "display_data"
    }
   ],
   "source": [
    "x <- rnorm(100)\n",
    "hist(x, main = \"Normal\")"
   ]
  },
  {
   "cell_type": "code",
   "execution_count": 21,
   "id": "composed-angola",
   "metadata": {},
   "outputs": [],
   "source": [
    "?rnorm"
   ]
  },
  {
   "cell_type": "markdown",
   "id": "coastal-corps",
   "metadata": {},
   "source": [
    "### Pie Chart\n",
    "To create a pie chart, use ``pie()``"
   ]
  },
  {
   "cell_type": "code",
   "execution_count": 16,
   "id": "better-qatar",
   "metadata": {},
   "outputs": [
    {
     "data": {
      "text/html": [
       "<dl class=dl-horizontal>\n",
       "\t<dt>Housing</dt>\n",
       "\t\t<dd>600</dd>\n",
       "\t<dt>Food</dt>\n",
       "\t\t<dd>300</dd>\n",
       "\t<dt>Cloths</dt>\n",
       "\t\t<dd>150</dd>\n",
       "\t<dt>Entertainment</dt>\n",
       "\t\t<dd>100</dd>\n",
       "\t<dt>Other</dt>\n",
       "\t\t<dd>200</dd>\n",
       "</dl>\n"
      ],
      "text/latex": [
       "\\begin{description*}\n",
       "\\item[Housing] 600\n",
       "\\item[Food] 300\n",
       "\\item[Cloths] 150\n",
       "\\item[Entertainment] 100\n",
       "\\item[Other] 200\n",
       "\\end{description*}\n"
      ],
      "text/markdown": [
       "Housing\n",
       ":   600Food\n",
       ":   300Cloths\n",
       ":   150Entertainment\n",
       ":   100Other\n",
       ":   200\n",
       "\n"
      ],
      "text/plain": [
       "      Housing          Food        Cloths Entertainment         Other \n",
       "          600           300           150           100           200 "
      ]
     },
     "metadata": {},
     "output_type": "display_data"
    }
   ],
   "source": [
    "# Create a categorical data\n",
    "expenditure <- c(Housing=600, Food=300, Cloths=150, Entertainment=100, Other=200)\n",
    "expenditure"
   ]
  },
  {
   "cell_type": "code",
   "execution_count": 17,
   "id": "collective-portfolio",
   "metadata": {},
   "outputs": [
    {
     "data": {
      "image/png": "[encoded data removed]",
      "text/plain": [
       "plot without title"
      ]
     },
     "metadata": {},
     "output_type": "display_data"
    }
   ],
   "source": [
    "# create a pie chart\n",
    "pie(expenditure)"
   ]
  },
  {
   "cell_type": "markdown",
   "id": "perfect-soldier",
   "metadata": {},
   "source": [
    "### Bar Plot\n",
    "\n",
    "To create a bar plot, use ``barplot()``<br>\n",
    "Data type: \n",
    "> Numerics\n",
    "\n",
    "Argument Input types:\n",
    "> vector, or matrix"
   ]
  },
  {
   "cell_type": "code",
   "execution_count": 22,
   "id": "affecting-benefit",
   "metadata": {},
   "outputs": [
    {
     "data": {
      "image/png": "[encoded data removed]",
      "text/plain": [
       "plot without title"
      ]
     },
     "metadata": {},
     "output_type": "display_data"
    }
   ],
   "source": [
    "barplot(expenditure)"
   ]
  },
  {
   "cell_type": "code",
   "execution_count": 21,
   "id": "looking-approach",
   "metadata": {},
   "outputs": [
    {
     "data": {
      "image/png": "[encoded data removed]",
      "text/plain": [
       "plot without title"
      ]
     },
     "metadata": {},
     "output_type": "display_data"
    }
   ],
   "source": [
    "# horizontal bar plot\n",
    "barplot(expenditure, horiz=TRUE)"
   ]
  },
  {
   "cell_type": "markdown",
   "id": "maritime-prophet",
   "metadata": {},
   "source": [
    "# ggplot2"
   ]
  },
  {
   "cell_type": "code",
   "execution_count": 23,
   "id": "completed-parts",
   "metadata": {},
   "outputs": [
    {
     "name": "stderr",
     "output_type": "stream",
     "text": [
      "Warning message:\n",
      "\"package 'ggplot2' was built under R version 3.6.3\""
     ]
    }
   ],
   "source": [
    "# import ggplot2 library\n",
    "library(ggplot2)"
   ]
  },
  {
   "cell_type": "markdown",
   "id": "scheduled-campbell",
   "metadata": {},
   "source": [
    "The syntax to plot in ggplot2:<br>\n",
    "``ggplot(data, aes(variables, arguments)) + geom_geometryshape()``, where ``geometryshape`` can be chosen in the available list, i.e., ``bar``"
   ]
  },
  {
   "cell_type": "code",
   "execution_count": 25,
   "id": "monthly-romantic",
   "metadata": {},
   "outputs": [],
   "source": [
    "?data.frame"
   ]
  },
  {
   "cell_type": "markdown",
   "id": "identical-version",
   "metadata": {},
   "source": [
    "### Bar Plot\n",
    "\n",
    "To create a bar plot, use ``geom_bar()``"
   ]
  },
  {
   "cell_type": "code",
   "execution_count": 24,
   "id": "foreign-adelaide",
   "metadata": {},
   "outputs": [
    {
     "data": {
      "text/html": [
       "<table>\n",
       "<thead><tr><th scope=col>name</th><th scope=col>value</th></tr></thead>\n",
       "<tbody>\n",
       "\t<tr><td>A </td><td>50</td></tr>\n",
       "\t<tr><td>B </td><td>12</td></tr>\n",
       "\t<tr><td>C </td><td>30</td></tr>\n",
       "</tbody>\n",
       "</table>\n"
      ],
      "text/latex": [
       "\\begin{tabular}{r|ll}\n",
       " name & value\\\\\n",
       "\\hline\n",
       "\t A  & 50\\\\\n",
       "\t B  & 12\\\\\n",
       "\t C  & 30\\\\\n",
       "\\end{tabular}\n"
      ],
      "text/markdown": [
       "\n",
       "| name | value |\n",
       "|---|---|\n",
       "| A  | 50 |\n",
       "| B  | 12 |\n",
       "| C  | 30 |\n",
       "\n"
      ],
      "text/plain": [
       "  name value\n",
       "1 A    50   \n",
       "2 B    12   \n",
       "3 C    30   "
      ]
     },
     "metadata": {},
     "output_type": "display_data"
    }
   ],
   "source": [
    "# create categorical data\n",
    "data <- data.frame(name=c(\"A\", \"B\", \"C\"), value=c(50, 12, 30))\n",
    "data"
   ]
  },
  {
   "cell_type": "code",
   "execution_count": 28,
   "id": "democratic-embassy",
   "metadata": {},
   "outputs": [
    {
     "data": {
      "image/png": "[encoded data removed]",
      "text/plain": [
       "plot without title"
      ]
     },
     "metadata": {},
     "output_type": "display_data"
    }
   ],
   "source": [
    "# barplot\n",
    "ggplot(data, aes(x=name, y=value)) + geom_bar(stat=\"identity\")\n",
    "# Note : aesthetics"
   ]
  },
  {
   "cell_type": "code",
   "execution_count": 31,
   "id": "universal-steal",
   "metadata": {},
   "outputs": [
    {
     "data": {
      "image/png": "[encoded data removed]",
      "text/plain": [
       "plot without title"
      ]
     },
     "metadata": {},
     "output_type": "display_data"
    }
   ],
   "source": [
    "# Horizontal barplot\n",
    "ggplot(data, aes(x=name, y=value)) + geom_bar(stat=\"identity\") + coord_flip()"
   ]
  },
  {
   "cell_type": "markdown",
   "id": "grave-diana",
   "metadata": {},
   "source": [
    "### Box Plot\n",
    "\n",
    "To create a box plot, use ``geom_boxplot()``"
   ]
  },
  {
   "cell_type": "code",
   "execution_count": 30,
   "id": "amateur-warning",
   "metadata": {},
   "outputs": [],
   "source": [
    "# create data\n",
    "df <- data.frame(name=rep(\"A\", 100), value=rnorm(100))\n",
    "#df"
   ]
  },
  {
   "cell_type": "code",
   "execution_count": 31,
   "id": "urban-patrol",
   "metadata": {},
   "outputs": [
    {
     "data": {
      "image/png": "[encoded data removed]",
      "text/plain": [
       "plot without title"
      ]
     },
     "metadata": {},
     "output_type": "display_data"
    }
   ],
   "source": [
    "ggplot(data=df, aes(y=value)) + geom_boxplot()"
   ]
  },
  {
   "cell_type": "code",
   "execution_count": 71,
   "id": "fatty-teach",
   "metadata": {},
   "outputs": [
    {
     "data": {
      "image/png": "[encoded data removed]",
      "text/plain": [
       "plot without title"
      ]
     },
     "metadata": {},
     "output_type": "display_data"
    }
   ],
   "source": [
    "# with jitter\n",
    "ggplot(data, aes(x=name, y=value))+geom_boxplot()+geom_jitter(color=\"black\", size=0.4, alpha=0.9)"
   ]
  },
  {
   "cell_type": "markdown",
   "id": "discrete-georgia",
   "metadata": {},
   "source": [
    "### Histogram\n",
    "\n",
    "To create a historgram, use ``geom_histogram()``"
   ]
  },
  {
   "cell_type": "code",
   "execution_count": 35,
   "id": "floral-bobby",
   "metadata": {},
   "outputs": [
    {
     "data": {
      "image/png": "[encoded data removed]",
      "text/plain": [
       "plot without title"
      ]
     },
     "metadata": {},
     "output_type": "display_data"
    }
   ],
   "source": [
    "ggplot(data=df, aes(x=value)) + geom_histogram(binwidth=1)"
   ]
  },
  {
   "cell_type": "markdown",
   "id": "liquid-survey",
   "metadata": {},
   "source": [
    "### Denisty\n",
    "\n",
    "To create a density plot, use ``geom_density()``"
   ]
  },
  {
   "cell_type": "code",
   "execution_count": 36,
   "id": "lucky-reason",
   "metadata": {},
   "outputs": [
    {
     "data": {
      "image/png": "[encoded data removed]",
      "text/plain": [
       "plot without title"
      ]
     },
     "metadata": {},
     "output_type": "display_data"
    }
   ],
   "source": [
    "ggplot(data=df, aes(x=value)) + geom_density()"
   ]
  },
  {
   "cell_type": "markdown",
   "id": "continent-being",
   "metadata": {},
   "source": [
    "### Scatter Plot\n",
    "\n",
    "To create a scatter plot, use ``geom_point()``"
   ]
  },
  {
   "cell_type": "code",
   "execution_count": 40,
   "id": "freelance-collar",
   "metadata": {},
   "outputs": [
    {
     "data": {
      "text/html": [
       "<table>\n",
       "<thead><tr><th scope=col>xval</th><th scope=col>yval</th></tr></thead>\n",
       "<tbody>\n",
       "\t<tr><td> 0.71515989</td><td> 0.4875257 </td></tr>\n",
       "\t<tr><td> 0.83996682</td><td> 0.1746980 </td></tr>\n",
       "\t<tr><td>-1.83074781</td><td>-1.1472714 </td></tr>\n",
       "\t<tr><td>-0.05897931</td><td> 0.8685026 </td></tr>\n",
       "</tbody>\n",
       "</table>\n"
      ],
      "text/latex": [
       "\\begin{tabular}{r|ll}\n",
       " xval & yval\\\\\n",
       "\\hline\n",
       "\t  0.71515989 &  0.4875257 \\\\\n",
       "\t  0.83996682 &  0.1746980 \\\\\n",
       "\t -1.83074781 & -1.1472714 \\\\\n",
       "\t -0.05897931 &  0.8685026 \\\\\n",
       "\\end{tabular}\n"
      ],
      "text/markdown": [
       "\n",
       "| xval | yval |\n",
       "|---|---|\n",
       "|  0.71515989 |  0.4875257  |\n",
       "|  0.83996682 |  0.1746980  |\n",
       "| -1.83074781 | -1.1472714  |\n",
       "| -0.05897931 |  0.8685026  |\n",
       "\n"
      ],
      "text/plain": [
       "  xval        yval      \n",
       "1  0.71515989  0.4875257\n",
       "2  0.83996682  0.1746980\n",
       "3 -1.83074781 -1.1472714\n",
       "4 -0.05897931  0.8685026"
      ]
     },
     "metadata": {},
     "output_type": "display_data"
    }
   ],
   "source": [
    "# rbind()\n",
    "# create data\n",
    "x <- rnorm(100)\n",
    "y <- x + rnorm(100) # y<- x^2\n",
    "df <- data.frame(xval=x, yval=y)\n",
    "head(df, n=4) "
   ]
  },
  {
   "cell_type": "code",
   "execution_count": 41,
   "id": "upset-knitting",
   "metadata": {},
   "outputs": [
    {
     "data": {
      "image/png": "[encoded data removed]",
      "text/plain": [
       "plot without title"
      ]
     },
     "metadata": {},
     "output_type": "display_data"
    }
   ],
   "source": [
    "# scatter plot\n",
    "ggplot(data=df, aes(x=xval, y=yval)) + geom_point(size=2)"
   ]
  },
  {
   "cell_type": "code",
   "execution_count": 42,
   "id": "three-contributor",
   "metadata": {},
   "outputs": [
    {
     "name": "stderr",
     "output_type": "stream",
     "text": [
      "`geom_smooth()` using formula 'y ~ x'\n"
     ]
    },
    {
     "data": {
      "image/png": "[encoded data removed]",
      "text/plain": [
       "plot without title"
      ]
     },
     "metadata": {},
     "output_type": "display_data"
    }
   ],
   "source": [
    "# with linear trend and confidence interval use geom_smooth()\n",
    "ggplot(data=df, aes(x=xval, y=yval)) + geom_point(size=2) +  geom_smooth(method=lm , color=\"red\", fill=\"#69b3a2\", se=TRUE)"
   ]
  },
  {
   "cell_type": "markdown",
   "id": "frequent-exercise",
   "metadata": {},
   "source": [
    "### Line Plot\n",
    "\n",
    "To create a line plot, use ``geom_line()``"
   ]
  },
  {
   "cell_type": "code",
   "execution_count": 43,
   "id": "adjacent-company",
   "metadata": {},
   "outputs": [
    {
     "data": {
      "image/png": "[encoded data removed]",
      "text/plain": [
       "plot without title"
      ]
     },
     "metadata": {},
     "output_type": "display_data"
    }
   ],
   "source": [
    "ggplot(data=df, aes(x=xval, y=yval)) + geom_line()"
   ]
  },
  {
   "cell_type": "markdown",
   "id": "danish-miller",
   "metadata": {},
   "source": [
    "# Application"
   ]
  },
  {
   "cell_type": "code",
   "execution_count": 46,
   "id": "practical-victoria",
   "metadata": {},
   "outputs": [
    {
     "name": "stderr",
     "output_type": "stream",
     "text": [
      "Parsed with column specification:\n",
      "cols(\n",
      "  PassengerId = col_double(),\n",
      "  Survived = col_double(),\n",
      "  Pclass = col_double(),\n",
      "  Name = col_character(),\n",
      "  Sex = col_character(),\n",
      "  Age = col_double(),\n",
      "  SibSp = col_double(),\n",
      "  Parch = col_double(),\n",
      "  Ticket = col_character(),\n",
      "  Fare = col_double(),\n",
      "  Cabin = col_character(),\n",
      "  Embarked = col_character()\n",
      ")\n"
     ]
    },
    {
     "data": {
      "text/html": [
       "<table>\n",
       "<thead><tr><th scope=col>PassengerId</th><th scope=col>Survived</th><th scope=col>Pclass</th><th scope=col>Name</th><th scope=col>Sex</th><th scope=col>Age</th><th scope=col>SibSp</th><th scope=col>Parch</th><th scope=col>Ticket</th><th scope=col>Fare</th><th scope=col>Cabin</th><th scope=col>Embarked</th></tr></thead>\n",
       "<tbody>\n",
       "\t<tr><td>1                                                  </td><td>0                                                  </td><td>3                                                  </td><td>Braund, Mr. Owen Harris                            </td><td>male                                               </td><td>22                                                 </td><td>1                                                  </td><td>0                                                  </td><td>A/5 21171                                          </td><td> 7.2500                                            </td><td>NA                                                 </td><td>S                                                  </td></tr>\n",
       "\t<tr><td>2                                                  </td><td>1                                                  </td><td>1                                                  </td><td>Cumings, Mrs. John Bradley (Florence Briggs Thayer)</td><td>female                                             </td><td>38                                                 </td><td>1                                                  </td><td>0                                                  </td><td>PC 17599                                           </td><td>71.2833                                            </td><td>C85                                                </td><td>C                                                  </td></tr>\n",
       "\t<tr><td>3                                                  </td><td>1                                                  </td><td>3                                                  </td><td>Heikkinen, Miss. Laina                             </td><td>female                                             </td><td>26                                                 </td><td>0                                                  </td><td>0                                                  </td><td>STON/O2. 3101282                                   </td><td> 7.9250                                            </td><td>NA                                                 </td><td>S                                                  </td></tr>\n",
       "\t<tr><td>4                                                  </td><td>1                                                  </td><td>1                                                  </td><td>Futrelle, Mrs. Jacques Heath (Lily May Peel)       </td><td>female                                             </td><td>35                                                 </td><td>1                                                  </td><td>0                                                  </td><td>113803                                             </td><td>53.1000                                            </td><td>C123                                               </td><td>S                                                  </td></tr>\n",
       "\t<tr><td>5                                                  </td><td>0                                                  </td><td>3                                                  </td><td>Allen, Mr. William Henry                           </td><td>male                                               </td><td>35                                                 </td><td>0                                                  </td><td>0                                                  </td><td>373450                                             </td><td> 8.0500                                            </td><td>NA                                                 </td><td>S                                                  </td></tr>\n",
       "</tbody>\n",
       "</table>\n"
      ],
      "text/latex": [
       "\\begin{tabular}{r|llllllllllll}\n",
       " PassengerId & Survived & Pclass & Name & Sex & Age & SibSp & Parch & Ticket & Fare & Cabin & Embarked\\\\\n",
       "\\hline\n",
       "\t 1                                                   & 0                                                   & 3                                                   & Braund, Mr. Owen Harris                             & male                                                & 22                                                  & 1                                                   & 0                                                   & A/5 21171                                           &  7.2500                                             & NA                                                  & S                                                  \\\\\n",
       "\t 2                                                   & 1                                                   & 1                                                   & Cumings, Mrs. John Bradley (Florence Briggs Thayer) & female                                              & 38                                                  & 1                                                   & 0                                                   & PC 17599                                            & 71.2833                                             & C85                                                 & C                                                  \\\\\n",
       "\t 3                                                   & 1                                                   & 3                                                   & Heikkinen, Miss. Laina                              & female                                              & 26                                                  & 0                                                   & 0                                                   & STON/O2. 3101282                                    &  7.9250                                             & NA                                                  & S                                                  \\\\\n",
       "\t 4                                                   & 1                                                   & 1                                                   & Futrelle, Mrs. Jacques Heath (Lily May Peel)        & female                                              & 35                                                  & 1                                                   & 0                                                   & 113803                                              & 53.1000                                             & C123                                                & S                                                  \\\\\n",
       "\t 5                                                   & 0                                                   & 3                                                   & Allen, Mr. William Henry                            & male                                                & 35                                                  & 0                                                   & 0                                                   & 373450                                              &  8.0500                                             & NA                                                  & S                                                  \\\\\n",
       "\\end{tabular}\n"
      ],
      "text/markdown": [
       "\n",
       "| PassengerId | Survived | Pclass | Name | Sex | Age | SibSp | Parch | Ticket | Fare | Cabin | Embarked |\n",
       "|---|---|---|---|---|---|---|---|---|---|---|---|\n",
       "| 1                                                   | 0                                                   | 3                                                   | Braund, Mr. Owen Harris                             | male                                                | 22                                                  | 1                                                   | 0                                                   | A/5 21171                                           |  7.2500                                             | NA                                                  | S                                                   |\n",
       "| 2                                                   | 1                                                   | 1                                                   | Cumings, Mrs. John Bradley (Florence Briggs Thayer) | female                                              | 38                                                  | 1                                                   | 0                                                   | PC 17599                                            | 71.2833                                             | C85                                                 | C                                                   |\n",
       "| 3                                                   | 1                                                   | 3                                                   | Heikkinen, Miss. Laina                              | female                                              | 26                                                  | 0                                                   | 0                                                   | STON/O2. 3101282                                    |  7.9250                                             | NA                                                  | S                                                   |\n",
       "| 4                                                   | 1                                                   | 1                                                   | Futrelle, Mrs. Jacques Heath (Lily May Peel)        | female                                              | 35                                                  | 1                                                   | 0                                                   | 113803                                              | 53.1000                                             | C123                                                | S                                                   |\n",
       "| 5                                                   | 0                                                   | 3                                                   | Allen, Mr. William Henry                            | male                                                | 35                                                  | 0                                                   | 0                                                   | 373450                                              |  8.0500                                             | NA                                                  | S                                                   |\n",
       "\n"
      ],
      "text/plain": [
       "  PassengerId Survived Pclass\n",
       "1 1           0        3     \n",
       "2 2           1        1     \n",
       "3 3           1        3     \n",
       "4 4           1        1     \n",
       "5 5           0        3     \n",
       "  Name                                                Sex    Age SibSp Parch\n",
       "1 Braund, Mr. Owen Harris                             male   22  1     0    \n",
       "2 Cumings, Mrs. John Bradley (Florence Briggs Thayer) female 38  1     0    \n",
       "3 Heikkinen, Miss. Laina                              female 26  0     0    \n",
       "4 Futrelle, Mrs. Jacques Heath (Lily May Peel)        female 35  1     0    \n",
       "5 Allen, Mr. William Henry                            male   35  0     0    \n",
       "  Ticket           Fare    Cabin Embarked\n",
       "1 A/5 21171         7.2500 NA    S       \n",
       "2 PC 17599         71.2833 C85   C       \n",
       "3 STON/O2. 3101282  7.9250 NA    S       \n",
       "4 113803           53.1000 C123  S       \n",
       "5 373450            8.0500 NA    S       "
      ]
     },
     "metadata": {},
     "output_type": "display_data"
    }
   ],
   "source": [
    "# To read data, import \"readr\" library (like Pandas in Python import pandas)\n",
    "library(\"readr\")\n",
    "# Read Titanic data set\n",
    "titanic_data <- read_csv(\"C:\\\\Users\\\\famille\\\\Documents\\\\train.csv\")\n",
    "# Print the frist 5 rows\n",
    "head(titanic_data, n=5)"
   ]
  },
  {
   "cell_type": "markdown",
   "id": "outdoor-feelings",
   "metadata": {},
   "source": [
    "To read a text file (extension ``.txt``,  use ``read_tsv(file_name)`` or ``read.table``"
   ]
  },
  {
   "cell_type": "code",
   "execution_count": 48,
   "id": "victorian-genetics",
   "metadata": {},
   "outputs": [
    {
     "data": {
      "image/png": "[encoded data removed]",
      "text/plain": [
       "Plot with title \"Age histogram\""
      ]
     },
     "metadata": {},
     "output_type": "display_data"
    }
   ],
   "source": [
    "hist(titanic_data$Age, xlab=\"Age\", main=\"Age histogram\") # titanic_data.Age or titanic_data['Age'], titanic_data$Age"
   ]
  },
  {
   "cell_type": "code",
   "execution_count": 49,
   "id": "distributed-layout",
   "metadata": {},
   "outputs": [
    {
     "name": "stderr",
     "output_type": "stream",
     "text": [
      "Warning message:\n",
      "\"Removed 177 rows containing non-finite values (stat_bin).\""
     ]
    },
    {
     "data": {
      "image/png": "[encoded data removed]",
      "text/plain": [
       "plot without title"
      ]
     },
     "metadata": {},
     "output_type": "display_data"
    }
   ],
   "source": [
    "ggplot(data=titanic_data, aes(x=Age)) + geom_histogram(binwidth=8)"
   ]
  },
  {
   "cell_type": "code",
   "execution_count": 50,
   "id": "varied-baker",
   "metadata": {},
   "outputs": [
    {
     "data": {
      "text/plain": [
       "\n",
       "  0   1 \n",
       "549 342 "
      ]
     },
     "metadata": {},
     "output_type": "display_data"
    }
   ],
   "source": [
    "# Count numbers of obersvation in the data frame\n",
    "counts <- table(titanic_data$Survived)\n",
    "counts"
   ]
  },
  {
   "cell_type": "code",
   "execution_count": 51,
   "id": "accomplished-century",
   "metadata": {},
   "outputs": [
    {
     "data": {
      "image/png": "[encoded data removed]",
      "text/plain": [
       "plot without title"
      ]
     },
     "metadata": {},
     "output_type": "display_data"
    }
   ],
   "source": [
    "barplot(counts)"
   ]
  },
  {
   "cell_type": "code",
   "execution_count": 52,
   "id": "widespread-stanley",
   "metadata": {},
   "outputs": [
    {
     "data": {
      "text/plain": [
       "   \n",
       "    female male\n",
       "  0     81  468\n",
       "  1    233  109"
      ]
     },
     "metadata": {},
     "output_type": "display_data"
    }
   ],
   "source": [
    "counts_per_sex <- table(titanic_data$Survived, titanic_data$Sex)\n",
    "counts_per_sex\n",
    "#barplot(counts, )"
   ]
  },
  {
   "cell_type": "code",
   "execution_count": 54,
   "id": "touched-syndrome",
   "metadata": {},
   "outputs": [
    {
     "data": {
      "image/png": "[encoded data removed]",
      "text/plain": [
       "plot without title"
      ]
     },
     "metadata": {},
     "output_type": "display_data"
    }
   ],
   "source": [
    "#counts[2,1:2]\n",
    "barplot(counts_per_sex, col=c(\"darkblue\",\"red\"),\n",
    "  legend = rownames(counts))"
   ]
  },
  {
   "cell_type": "code",
   "execution_count": 55,
   "id": "grand-jenny",
   "metadata": {},
   "outputs": [
    {
     "data": {
      "image/png": "[encoded data removed]",
      "text/plain": [
       "plot without title"
      ]
     },
     "metadata": {},
     "output_type": "display_data"
    }
   ],
   "source": [
    "barplot(counts_per_sex[2,1:2])"
   ]
  },
  {
   "cell_type": "code",
   "execution_count": 56,
   "id": "optimum-wings",
   "metadata": {},
   "outputs": [
    {
     "data": {
      "image/png": "[encoded data removed]",
      "text/plain": [
       "plot without title"
      ]
     },
     "metadata": {},
     "output_type": "display_data"
    }
   ],
   "source": [
    "ggplot(titanic_data, aes(x=Sex, y=Survived)) + geom_bar(stat=\"identity\")"
   ]
  },
  {
   "cell_type": "code",
   "execution_count": 57,
   "id": "binary-limit",
   "metadata": {},
   "outputs": [
    {
     "data": {
      "image/png": "[encoded data removed]",
      "text/plain": [
       "plot without title"
      ]
     },
     "metadata": {},
     "output_type": "display_data"
    }
   ],
   "source": [
    "ggplot(titanic_data, aes(x=Pclass, y=Survived)) + geom_bar(stat=\"identity\")"
   ]
  },
  {
   "cell_type": "code",
   "execution_count": null,
   "id": "terminal-grain",
   "metadata": {},
   "outputs": [],
   "source": []
  }
 ],
 "metadata": {
  "kernelspec": {
   "display_name": "R",
   "language": "R",
   "name": "ir"
  },
  "language_info": {
   "codemirror_mode": "r",
   "file_extension": ".r",
   "mimetype": "text/x-r-source",
   "name": "R",
   "pygments_lexer": "r",
   "version": "3.6.1"
  }
 },
 "nbformat": 4,
 "nbformat_minor": 5
}
